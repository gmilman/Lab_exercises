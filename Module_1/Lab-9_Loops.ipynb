{
 "cells": [
  {
   "cell_type": "markdown",
   "metadata": {},
   "source": [
    "# Loops\n",
    "\n",
    "Complete the following set of exercises to solidify your knowledge for Loops."
   ]
  },
  {
   "cell_type": "markdown",
   "metadata": {},
   "source": [
    "#### 1. Print first 10 natural numbers using while loop"
   ]
  },
  {
   "cell_type": "code",
   "execution_count": 2,
   "metadata": {},
   "outputs": [
    {
     "name": "stdout",
     "output_type": "stream",
     "text": [
      "1\n",
      "2\n",
      "3\n",
      "4\n",
      "5\n",
      "6\n",
      "7\n",
      "8\n",
      "9\n",
      "10\n"
     ]
    }
   ],
   "source": [
    "i=0\n",
    "while i < 10:\n",
    "    i+=1\n",
    "    print(i)"
   ]
  },
  {
   "cell_type": "markdown",
   "metadata": {},
   "source": [
    "#### 2. Display numbers from a list using loop\n",
    "Write a program to display only those numbers from a list that satisfy the following conditions\n",
    "\n",
    "The number must be divisible by five\n",
    "\n",
    "If the number is greater than 150, then skip it and move to the next number\n",
    "\n",
    "If the number is greater than 500, then stop the loop\n",
    "\n",
    "numbers = [12, 75, 150, 180, 145, 525, 50]"
   ]
  },
  {
   "cell_type": "code",
   "execution_count": 4,
   "metadata": {},
   "outputs": [
    {
     "name": "stdout",
     "output_type": "stream",
     "text": [
      "[75, 145]\n"
     ]
    }
   ],
   "source": [
    "numbers = [12, 75, 150, 180, 145, 525, 50]\n",
    "\n",
    "new_list=[]\n",
    "for num in numbers:\n",
    "    if num%5==0 and num<150:\n",
    "        new_list.append(num)\n",
    "    elif num >500:\n",
    "        break\n",
    "        \n",
    "print(new_list)"
   ]
  },
  {
   "cell_type": "markdown",
   "metadata": {},
   "source": [
    "#### 3.Write a Python program to check the validity of a password (input from users).\n",
    "\n",
    "Validation :\n",
    "\n",
    "At least 1 letter between [a-z] and 1 letter between [A-Z].\n",
    "\n",
    "At least 1 number between [0-9].\n",
    "\n",
    "At least 1 character from [$#@].\n",
    "\n",
    "Minimum length 6 characters.\n",
    "\n",
    "Maximum length 16 characters."
   ]
  },
  {
   "cell_type": "code",
   "execution_count": 25,
   "metadata": {},
   "outputs": [
    {
     "name": "stdout",
     "output_type": "stream",
     "text": [
      "Please create a password that contains:\n",
      "atleas 1 letter lowercase, 1 letter in uppercase, a number (0-9), and atleast one special character ($#@). \n",
      "It should be between 6 -16 characters longabcABC1\n",
      "Your password should containt atleast 1 special character @$#\n"
     ]
    }
   ],
   "source": [
    "pwd=input('''Please create a password that contains:\n",
    "atleas 1 letter lowercase, 1 letter in uppercase, a number (0-9), and atleast one special character ($#@). \n",
    "It should be between 6 -16 characters long''')\n",
    "import re\n",
    "# now validate password using while loop\n",
    "x= True\n",
    "while x is True:\n",
    "    if len(pwd)<6 or len(pwd)>16:\n",
    "        print('your password should be between 6-16 characters long')\n",
    "        break \n",
    "    if re.search('[a-z]+',pwd) == None:\n",
    "        print('Your password should containt atleast 1 lowercase letter')\n",
    "        break\n",
    "    if re.search('[A-Z]+',pwd) == None:\n",
    "        print('Your password should containt atleast 1 uppercase letter')\n",
    "        break\n",
    "    if re.search('[0-9]+',pwd) == None:\n",
    "        print('Your password should containt atleast 1 numeral from 0-9')\n",
    "        break\n",
    "    if re.search('[$#@]+',pwd) == None:\n",
    "        print('Your password should containt atleast 1 special character @$#')\n",
    "        break\n",
    "    \n",
    "    else:\n",
    "        print('pwd valid')\n",
    "        \n",
    "    x= False"
   ]
  },
  {
   "cell_type": "markdown",
   "metadata": {},
   "source": [
    "#### 4. Break the loop when x is 6, and see what happens with the else block"
   ]
  },
  {
   "cell_type": "code",
   "execution_count": 46,
   "metadata": {},
   "outputs": [
    {
     "name": "stdout",
     "output_type": "stream",
     "text": [
      "1\n",
      "2\n",
      "3\n",
      "4\n",
      "5\n",
      "6\n"
     ]
    }
   ],
   "source": [
    "x=0\n",
    "while x<10:\n",
    "    x+=1\n",
    "    print(x)\n",
    "    if x==6:\n",
    "        break\n",
    "else: \n",
    "    print('end of loop')\n",
    "    \n",
    "#While loops can have else loops, but if loop broken the else loop will not execute at the end"
   ]
  },
  {
   "cell_type": "markdown",
   "metadata": {},
   "source": [
    "#### 5. Write a Python program to calculate the sum and average of n integer numbers (input from the user). Input 0 to finish.\n"
   ]
  },
  {
   "cell_type": "code",
   "execution_count": 40,
   "metadata": {},
   "outputs": [
    {
     "name": "stdout",
     "output_type": "stream",
     "text": [
      "please enter an integer, enter 0 to exit77\n",
      "please enter an integer, enter 0 to exit88\n",
      "please enter an integer, enter 0 to exit0\n",
      "[77, 88]\n",
      "165\n",
      "82.5\n"
     ]
    }
   ],
   "source": [
    "# average and sum calculated using built in functions\n",
    "number_list=[]\n",
    "\n",
    "user_input=1\n",
    "while user_input !=0:\n",
    "    user_input=int(input('please enter an integer, enter 0 to exit'))\n",
    "    number_list.append(user_input)\n",
    "\n",
    "#remove 0 from list as just used to exit look\n",
    "number_list.pop()\n",
    "\n",
    "print(number_list)\n",
    "import statistics as stat\n",
    "print(sum(number_list))\n",
    "print(stat.mean(number_list))"
   ]
  },
  {
   "cell_type": "code",
   "execution_count": 38,
   "metadata": {},
   "outputs": [
    {
     "name": "stdout",
     "output_type": "stream",
     "text": [
      "please enter an integer, enter 0 to exit77\n",
      "please enter an integer, enter 0 to exit88\n",
      "please enter an integer, enter 0 to exit99\n",
      "please enter an integer, enter 0 to exit0\n",
      "the sum of all values entered is 264\n",
      "the average of all values entered is 66.0\n"
     ]
    }
   ],
   "source": [
    "# average and sum calculated using loops\n",
    "number_list=[]\n",
    "\n",
    "user_input=1\n",
    "while user_input !=0:\n",
    "    user_input=int(input('please enter an integer, enter 0 to exit'))\n",
    "    number_list.append(user_input)\n",
    "# remove 0 from list so as not to impact average calculation, 0 used to exit\n",
    "number_list.pop()\n",
    "    #sum of numbers\n",
    "sum_n=0\n",
    "for num in number_list:\n",
    "    sum_n=sum_n+num\n",
    "print(f'the sum of all values entered is {sum_n}')\n",
    "\n",
    "# average of list\n",
    "av_n=sum_n/len(number_list)\n",
    "\n",
    "print(f'the average of all values entered is {av_n}')\n",
    "\n"
   ]
  }
 ],
 "metadata": {
  "kernelspec": {
   "display_name": "Python 3 (ipykernel)",
   "language": "python",
   "name": "python3"
  },
  "language_info": {
   "codemirror_mode": {
    "name": "ipython",
    "version": 3
   },
   "file_extension": ".py",
   "mimetype": "text/x-python",
   "name": "python",
   "nbconvert_exporter": "python",
   "pygments_lexer": "ipython3",
   "version": "3.9.13"
  }
 },
 "nbformat": 4,
 "nbformat_minor": 2
}
