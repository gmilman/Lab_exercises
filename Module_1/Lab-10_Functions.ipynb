{
 "cells": [
  {
   "cell_type": "code",
   "execution_count": 23,
   "id": "a27e55df",
   "metadata": {},
   "outputs": [
    {
     "data": {
      "text/plain": [
       "'There are 17 sheep.'"
      ]
     },
     "execution_count": 23,
     "metadata": {},
     "output_type": "execute_result"
    }
   ],
   "source": [
    "#Counting sheep\n",
    "\n",
    "sheep_array=[True,  True,  True,  False,True, True ,  True, True , True,  False, True,  False,True,  False, False, True ,True,  True,  True,  True ,False, False, True,  True]\n",
    "\n",
    "\n",
    "def sheep_count(array):\n",
    "\n",
    "    sheep_count=0\n",
    "    for count in array:\n",
    "        if count==True:\n",
    "            sheep_count+= 1\n",
    "                \n",
    "    return f'There are {sheep_count} sheep.'\n",
    "\n",
    "\n",
    "\n",
    "sheep_count(sheep_array)"
   ]
  },
  {
   "cell_type": "code",
   "execution_count": 44,
   "id": "68a9d204",
   "metadata": {},
   "outputs": [
    {
     "data": {
      "text/plain": [
       "[7, 44, 39, 7, 49, 39, 3, 34, 2]"
      ]
     },
     "execution_count": 44,
     "metadata": {},
     "output_type": "execute_result"
    }
   ],
   "source": [
    "#Dynamic Array\n",
    "#Take an array and remove every second element from the array. \n",
    "#Always keep the first element and start removing with the next element.\n",
    "\n",
    "#Example:\n",
    "#[\"Keep\", \"Remove\", \"Keep\", \"Remove\", \"Keep\", ...] --> [\"Keep\", \"Keep\", \"Keep\", ...]\n",
    "\n",
    "# make array\n",
    "from random import randint\n",
    "\n",
    "array1= []\n",
    "for i in range(9):\n",
    "    n= random.randint(1,50)\n",
    "    array1.append(n)\n",
    "array1"
   ]
  },
  {
   "cell_type": "code",
   "execution_count": 45,
   "id": "f1ce7f33",
   "metadata": {},
   "outputs": [
    {
     "name": "stdout",
     "output_type": "stream",
     "text": [
      "[7, 39, 49, 3, 2]\n"
     ]
    }
   ],
   "source": [
    "array1= [41, 17, 2, 50, 43, 1, 17, 25, 41, 45]\n",
    "array2=[7, 44, 39, 7, 49, 39, 3, 34, 2]\n",
    "\n",
    "def dynamic_remove(array):\n",
    "\n",
    "# take array and remove every secon item regardless of lenght\n",
    "# lets count the length of array \n",
    "\n",
    "# \n",
    "    del array[1:len(array):2]\n",
    "    return array\n",
    "print(dynamic_remove(array2))\n"
   ]
  },
  {
   "cell_type": "code",
   "execution_count": null,
   "id": "449bdf57",
   "metadata": {},
   "outputs": [],
   "source": [
    "# Convert number to reversed array of digits\n",
    "# Given a random non-negative number, you have to return the digits of this number within an array in reverse order."
   ]
  },
  {
   "cell_type": "code",
   "execution_count": 62,
   "id": "7f1f3d58",
   "metadata": {},
   "outputs": [
    {
     "name": "stdout",
     "output_type": "stream",
     "text": [
      "[3, 0, 7, 3, 4, 7, 0, 9, 3, 7]\n"
     ]
    }
   ],
   "source": [
    "num= 7390743703\n",
    "def rev_num(number):\n",
    "    string=str(num)[::-1]\n",
    "    reverse=[int(i[::1]) for i in string] \n",
    "    \n",
    "    \n",
    "    return reverse\n",
    "print(rev_num(num))"
   ]
  },
  {
   "cell_type": "code",
   "execution_count": 64,
   "id": "ae033901",
   "metadata": {},
   "outputs": [
    {
     "name": "stdout",
     "output_type": "stream",
     "text": [
      "[4, 9, 4, 7, 6, 8, 3, 1, 1]\n"
     ]
    }
   ],
   "source": [
    "# Marcia's version\n",
    "num= 113867494\n",
    "def rev_num(number):\n",
    "    #make list of integers  from string\n",
    "    list_num= [int(i) for i in str(number)]\n",
    "    \n",
    "    #reverse list\n",
    "    reverse=list_num[::-1] \n",
    "    \n",
    "    \n",
    "    return reverse\n",
    "print(rev_num(num))"
   ]
  },
  {
   "cell_type": "code",
   "execution_count": 93,
   "id": "5d7692ec",
   "metadata": {},
   "outputs": [
    {
     "name": "stdout",
     "output_type": "stream",
     "text": [
      "8164\n"
     ]
    }
   ],
   "source": [
    "#    Welcome. In this kata, you are asked to square every digit of a number and concatenate them.\n",
    "\n",
    "#For example, if we run 9119 through the function, 811181 will come out, because 92 is 81 and 12 is 1. (81-1-1-81)\n",
    "\n",
    "#Example #2: An input of 765 will/should return 493625 because 72 is 49, 62 is 36, and 52 is 25. (49-36-35)\n",
    "\n",
    "#Note: The function accepts an integer and returns an integer.\n",
    "    \n",
    "number =98\n",
    "\n",
    "def sq_digit(number):\n",
    "    #put each digit in list and square it\n",
    "    list_num= [(int(i)**2) for i in str(number)]\n",
    "    \n",
    "    # join each item in list as string \n",
    "          \n",
    "    \n",
    "    list_num=list(map(str,list_num))\n",
    "    \n",
    "    # concatenate list of string\n",
    "    str_num='' \n",
    "    for i in list_num:\n",
    "        str_num=str_num+i\n",
    "    \n",
    "    # convert to integer\n",
    "    str_num=int(str_num)\n",
    "    \n",
    "    return str_num\n",
    "\n",
    "print(sq_digit(number))\n",
    "\n",
    "    "
   ]
  },
  {
   "cell_type": "markdown",
   "id": "b9b07072",
   "metadata": {},
   "source": [
    "We need a method in the List Class that may count specific digits from a given list of integers. This marked digits will be given in a second list. The method .count_spec_digits()/.countSpecDigits() will accept two arguments, a list of an uncertain amount of integers integers_lists/integersLists (and of an uncertain amount of digits, too) and a second list, digits_list/digitsList that has the specific digits to count which length cannot be be longer than 10 (It's obvious, we've got ten digits). The method will output a list of tuples, each tuple having two elements, the first one will be a digit to count, and second one, its corresponding total frequency in all the integers of the first list. This list of tuples should be ordered with the same order that the digits have in digitsList\n",
    "\n",
    "Let's see some cases:\n",
    "\n",
    "l = List()\n",
    "\n",
    "integers_list =  [1, 1, 2 ,3 ,1 ,2 ,3 ,4]\n",
    "digits_list = [1, 3]\n",
    "l.count_spec_digits(integers_list, digits_list) == [(1, 3), (3, 2)]\n",
    "\n",
    "integers_list = [-18, -31, 81, -19, 111, -888]\n",
    "digits_list = [1, 8, 4]\n",
    "l.count_spec_digits(integers_list, digits_list) == [(1, 7), (8, 5), (4, 0)]\n",
    "\n",
    "integers_list = [-77, -65, 56, -79, 6666, 222]\n",
    "digits_list = [1, 8, 4]\n",
    "l.count_spec_digits(integers_list, digits_list) == [(1, 0), (8, 0), (4, 0)]"
   ]
  },
  {
   "cell_type": "code",
   "execution_count": null,
   "id": "7391e690",
   "metadata": {},
   "outputs": [],
   "source": [
    "#make two random list\n",
    "from random import randint\n",
    "\n",
    "# ask user input for length of first array\n",
    "user_input=(int(input('please enter a number to define the list lenght')))\n",
    "\n",
    "integers_list= []\n",
    "for i in range(user_input):\n",
    "    n= randint(1,500)\n",
    "    integers_list.append(n)\n",
    "print(integers_list)\n",
    "\n",
    "# ask user input for  length of 2nd list between 1-9\n",
    "user_input2=(int(input('please enter a number to define the list lenght')))\n",
    "digits_list= []\n",
    "for i in range(user_input2):\n",
    "    n= randint(1,9)\n",
    "    digits_list.append(n)\n",
    "print(digits_list)\n",
    "\n"
   ]
  },
  {
   "cell_type": "code",
   "execution_count": 23,
   "id": "731f5930",
   "metadata": {},
   "outputs": [
    {
     "name": "stdout",
     "output_type": "stream",
     "text": [
      "[(1, 3), (6, 2), (5, 1), (7, 1)]\n"
     ]
    }
   ],
   "source": [
    "# example lists\n",
    "integers_list=[361, 458, 138, 497, 36, 109]\n",
    "\n",
    "digits_list=[1, 6, 5, 7]\n",
    "\n",
    "def countSpecDigits(integers_list,digits_list):\n",
    "    \n",
    "    tup_list=[]\n",
    "    cnt=0\n",
    "    #make integer_list into string\n",
    "    str_num=''\n",
    "    for i in integers_list:\n",
    "        str_num=str_num + str(i)\n",
    "        \n",
    "    for dig in digits_list:\n",
    "        dig_count= str(str_num).count(str(dig))\n",
    "        tup=(dig,dig_count)\n",
    "        tup_list.append(tup)\n",
    "        \n",
    "        #for i in set(integers_list):\n",
    "         #   if str(dig) in str(i):\n",
    "          #      cnt=cnt+(str().count(str(i)))\n",
    "           # tup= (dig,cnt)\n",
    "            #tup_list.append(tup)\n",
    "    \n",
    "    print(tup_list)\n",
    "\n",
    "countSpecDigits(integers_list,digits_list)              \n",
    "                "
   ]
  },
  {
   "cell_type": "code",
   "execution_count": null,
   "id": "44811990",
   "metadata": {},
   "outputs": [],
   "source": []
  }
 ],
 "metadata": {
  "kernelspec": {
   "display_name": "Python 3 (ipykernel)",
   "language": "python",
   "name": "python3"
  },
  "language_info": {
   "codemirror_mode": {
    "name": "ipython",
    "version": 3
   },
   "file_extension": ".py",
   "mimetype": "text/x-python",
   "name": "python",
   "nbconvert_exporter": "python",
   "pygments_lexer": "ipython3",
   "version": "3.9.13"
  }
 },
 "nbformat": 4,
 "nbformat_minor": 5
}
