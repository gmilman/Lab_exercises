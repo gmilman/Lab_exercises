# -*- coding: utf-8 -*-
"""
Created on Thu Feb  2 16:45:38 2023

@author: gemma
"""

import pandas as pd
import xlrd
import numpy as np
df=pd.read_excel('C:/Users/gemma/Documents/IronHack/Module_1/Lab_33_Intro-to-Data-Preparation/example_data_cleaning.xlsx')
df.isnull()
null_cols=df.isnull().sum()

# check duplicates client IDs and TransactionID
ClientDuplist=dict(df['ClientID'].value_counts())
# remove clientIds that are not duplicated and update dictionary
ClientDuplist= {key:val for key, val in ClientDuplist.items() if val > 1}
ClientDuplist=list(ClientDuplist.keys())
#filter df for the duplicated records
df_ClientDup=pd.DataFrame(df[df['ClientID'].isin(ClientDuplist)])
df_ClientDup=df_ClientDup.sort_values(by=["ClientID"], axis=0)
type(df_ClientDup)
df_ClientDup.columns
df_ClientDup['BirthYear']

# From analysing the duplicates, one can see certain discrepencies
# for certain clients.
# Manually correct birth year on case by case
# Client 34987 has two values for birth year 1967,
#   thus replace nan val with 1967
df.at[28, "BirthYear"] = 1967
# same for Client 34988, one value which seems realist, thus replace with 1999
df.at[29, "BirthYear"] = 1999
# for client 34989, both values seem valid, could take the mean
#   of the two, or replace by the mean of both or leave completely as no way to be sure,
#   or replace with one or the other. could be a couple, with spouse using account 
#       Decision to replace with birth year from first transaction
df.at[13, "BirthYear"] = 1958

# CLEAN THE PROFESSIONS of DUPLICATE CLIENTS
    # 34987 sailer to manager as manager entered twice, index 28
df.at[28, "Profession"] = 'Manager'
    # 35008 updated all to BDM, one= bdm, the rest = nan, index = 14,15,16

df.at[14, "Profession"] = 'BDM'    
df.at[15, "Profession"] = 'BDM'
df.at[16, "Profession"] = 'BDM'

#CONSISTENCY OF DATA
# turn birth year data type into integer, currently float
df['BirthYear']

df['BirthYear']=df['BirthYear'].astype('int64')
# consistency etudient to student, hr to HR, barmen to Barman, 
#apply x.capitalize
df['Profession']=df['Profession'].apply(lambda x: x.capitalize())
df['Profession']=df['Profession'].apply(lambda x: x.upper() if x=='Hr'else (x.upper() if x=='Bdm' else x))



df.loc[df['Profession']=='Etudient','Profession']='Student'
# DEFINE ANY OUTLIERS USING IQR*1.5

