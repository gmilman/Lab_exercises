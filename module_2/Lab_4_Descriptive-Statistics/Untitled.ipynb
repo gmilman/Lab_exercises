{
 "cells": [
  {
   "cell_type": "code",
   "execution_count": 1,
   "id": "ce396945",
   "metadata": {},
   "outputs": [
    {
     "name": "stdout",
     "output_type": "stream",
     "text": [
      "Requirement already satisfied: jupyterlab in c:\\users\\gemma\\anaconda3\\lib\\site-packages (3.4.4)\n",
      "Requirement already satisfied: nbclassic in c:\\users\\gemma\\anaconda3\\lib\\site-packages (from jupyterlab) (0.3.5)\n",
      "Requirement already satisfied: jinja2>=2.1 in c:\\users\\gemma\\anaconda3\\lib\\site-packages (from jupyterlab) (2.11.3)\n",
      "Requirement already satisfied: jupyter-server~=1.16 in c:\\users\\gemma\\anaconda3\\lib\\site-packages (from jupyterlab) (1.18.1)\n",
      "Requirement already satisfied: tornado>=6.1.0 in c:\\users\\gemma\\anaconda3\\lib\\site-packages (from jupyterlab) (6.1)\n",
      "Requirement already satisfied: jupyterlab-server~=2.10 in c:\\users\\gemma\\anaconda3\\lib\\site-packages (from jupyterlab) (2.10.3)\n",
      "Requirement already satisfied: jupyter-core in c:\\users\\gemma\\anaconda3\\lib\\site-packages (from jupyterlab) (4.11.1)\n",
      "Requirement already satisfied: packaging in c:\\users\\gemma\\anaconda3\\lib\\site-packages (from jupyterlab) (21.3)\n",
      "Requirement already satisfied: ipython in c:\\users\\gemma\\anaconda3\\lib\\site-packages (from jupyterlab) (7.31.1)\n",
      "Requirement already satisfied: notebook<7 in c:\\users\\gemma\\anaconda3\\lib\\site-packages (from jupyterlab) (6.4.12)\n",
      "Requirement already satisfied: MarkupSafe>=0.23 in c:\\users\\gemma\\anaconda3\\lib\\site-packages (from jinja2>=2.1->jupyterlab) (2.0.1)\n",
      "Requirement already satisfied: nbformat>=5.2.0 in c:\\users\\gemma\\anaconda3\\lib\\site-packages (from jupyter-server~=1.16->jupyterlab) (5.5.0)\n",
      "Requirement already satisfied: pyzmq>=17 in c:\\users\\gemma\\anaconda3\\lib\\site-packages (from jupyter-server~=1.16->jupyterlab) (23.2.0)\n",
      "Requirement already satisfied: websocket-client in c:\\users\\gemma\\anaconda3\\lib\\site-packages (from jupyter-server~=1.16->jupyterlab) (0.58.0)\n",
      "Requirement already satisfied: argon2-cffi in c:\\users\\gemma\\anaconda3\\lib\\site-packages (from jupyter-server~=1.16->jupyterlab) (21.3.0)\n",
      "Requirement already satisfied: Send2Trash in c:\\users\\gemma\\anaconda3\\lib\\site-packages (from jupyter-server~=1.16->jupyterlab) (1.8.0)\n",
      "Requirement already satisfied: anyio<4,>=3.1.0 in c:\\users\\gemma\\anaconda3\\lib\\site-packages (from jupyter-server~=1.16->jupyterlab) (3.5.0)\n",
      "Requirement already satisfied: nbconvert>=6.4.4 in c:\\users\\gemma\\anaconda3\\lib\\site-packages (from jupyter-server~=1.16->jupyterlab) (6.4.4)\n",
      "Requirement already satisfied: jupyter-client>=6.1.12 in c:\\users\\gemma\\anaconda3\\lib\\site-packages (from jupyter-server~=1.16->jupyterlab) (7.3.4)\n",
      "Requirement already satisfied: traitlets>=5.1 in c:\\users\\gemma\\anaconda3\\lib\\site-packages (from jupyter-server~=1.16->jupyterlab) (5.1.1)\n",
      "Requirement already satisfied: terminado>=0.8.3 in c:\\users\\gemma\\anaconda3\\lib\\site-packages (from jupyter-server~=1.16->jupyterlab) (0.13.1)\n",
      "Requirement already satisfied: prometheus-client in c:\\users\\gemma\\anaconda3\\lib\\site-packages (from jupyter-server~=1.16->jupyterlab) (0.14.1)\n",
      "Requirement already satisfied: pywinpty in c:\\users\\gemma\\anaconda3\\lib\\site-packages (from jupyter-server~=1.16->jupyterlab) (2.0.2)\n",
      "Requirement already satisfied: pywin32>=1.0 in c:\\users\\gemma\\anaconda3\\lib\\site-packages (from jupyter-core->jupyterlab) (302)\n",
      "Requirement already satisfied: requests in c:\\users\\gemma\\anaconda3\\lib\\site-packages (from jupyterlab-server~=2.10->jupyterlab) (2.28.1)\n",
      "Requirement already satisfied: json5 in c:\\users\\gemma\\anaconda3\\lib\\site-packages (from jupyterlab-server~=2.10->jupyterlab) (0.9.6)\n",
      "Requirement already satisfied: jsonschema>=3.0.1 in c:\\users\\gemma\\anaconda3\\lib\\site-packages (from jupyterlab-server~=2.10->jupyterlab) (4.16.0)\n",
      "Requirement already satisfied: babel in c:\\users\\gemma\\anaconda3\\lib\\site-packages (from jupyterlab-server~=2.10->jupyterlab) (2.9.1)\n",
      "Requirement already satisfied: entrypoints>=0.2.2 in c:\\users\\gemma\\anaconda3\\lib\\site-packages (from jupyterlab-server~=2.10->jupyterlab) (0.4)\n",
      "Requirement already satisfied: nest-asyncio>=1.5 in c:\\users\\gemma\\anaconda3\\lib\\site-packages (from notebook<7->jupyterlab) (1.5.5)\n",
      "Requirement already satisfied: ipykernel in c:\\users\\gemma\\anaconda3\\lib\\site-packages (from notebook<7->jupyterlab) (6.15.2)\n",
      "Requirement already satisfied: ipython-genutils in c:\\users\\gemma\\anaconda3\\lib\\site-packages (from notebook<7->jupyterlab) (0.2.0)\n",
      "Requirement already satisfied: pickleshare in c:\\users\\gemma\\anaconda3\\lib\\site-packages (from ipython->jupyterlab) (0.7.5)\n",
      "Requirement already satisfied: colorama in c:\\users\\gemma\\anaconda3\\lib\\site-packages (from ipython->jupyterlab) (0.4.5)\n",
      "Requirement already satisfied: decorator in c:\\users\\gemma\\anaconda3\\lib\\site-packages (from ipython->jupyterlab) (5.1.1)\n",
      "Requirement already satisfied: jedi>=0.16 in c:\\users\\gemma\\anaconda3\\lib\\site-packages (from ipython->jupyterlab) (0.18.1)\n",
      "Requirement already satisfied: prompt-toolkit!=3.0.0,!=3.0.1,<3.1.0,>=2.0.0 in c:\\users\\gemma\\anaconda3\\lib\\site-packages (from ipython->jupyterlab) (3.0.20)\n",
      "Requirement already satisfied: setuptools>=18.5 in c:\\users\\gemma\\anaconda3\\lib\\site-packages (from ipython->jupyterlab) (63.4.1)\n",
      "Requirement already satisfied: pygments in c:\\users\\gemma\\anaconda3\\lib\\site-packages (from ipython->jupyterlab) (2.11.2)\n",
      "Requirement already satisfied: matplotlib-inline in c:\\users\\gemma\\anaconda3\\lib\\site-packages (from ipython->jupyterlab) (0.1.6)\n",
      "Requirement already satisfied: backcall in c:\\users\\gemma\\anaconda3\\lib\\site-packages (from ipython->jupyterlab) (0.2.0)\n",
      "Requirement already satisfied: pyparsing!=3.0.5,>=2.0.2 in c:\\users\\gemma\\anaconda3\\lib\\site-packages (from packaging->jupyterlab) (3.0.9)\n",
      "Requirement already satisfied: sniffio>=1.1 in c:\\users\\gemma\\anaconda3\\lib\\site-packages (from anyio<4,>=3.1.0->jupyter-server~=1.16->jupyterlab) (1.2.0)\n",
      "Requirement already satisfied: idna>=2.8 in c:\\users\\gemma\\anaconda3\\lib\\site-packages (from anyio<4,>=3.1.0->jupyter-server~=1.16->jupyterlab) (3.3)\n",
      "Requirement already satisfied: parso<0.9.0,>=0.8.0 in c:\\users\\gemma\\anaconda3\\lib\\site-packages (from jedi>=0.16->ipython->jupyterlab) (0.8.3)\n",
      "Requirement already satisfied: attrs>=17.4.0 in c:\\users\\gemma\\anaconda3\\lib\\site-packages (from jsonschema>=3.0.1->jupyterlab-server~=2.10->jupyterlab) (21.4.0)\n",
      "Requirement already satisfied: pyrsistent!=0.17.0,!=0.17.1,!=0.17.2,>=0.14.0 in c:\\users\\gemma\\anaconda3\\lib\\site-packages (from jsonschema>=3.0.1->jupyterlab-server~=2.10->jupyterlab) (0.18.0)\n",
      "Requirement already satisfied: python-dateutil>=2.8.2 in c:\\users\\gemma\\anaconda3\\lib\\site-packages (from jupyter-client>=6.1.12->jupyter-server~=1.16->jupyterlab) (2.8.2)\n",
      "Requirement already satisfied: pandocfilters>=1.4.1 in c:\\users\\gemma\\anaconda3\\lib\\site-packages (from nbconvert>=6.4.4->jupyter-server~=1.16->jupyterlab) (1.5.0)\n",
      "Requirement already satisfied: mistune<2,>=0.8.1 in c:\\users\\gemma\\anaconda3\\lib\\site-packages (from nbconvert>=6.4.4->jupyter-server~=1.16->jupyterlab) (0.8.4)\n",
      "Requirement already satisfied: jupyterlab-pygments in c:\\users\\gemma\\anaconda3\\lib\\site-packages (from nbconvert>=6.4.4->jupyter-server~=1.16->jupyterlab) (0.1.2)\n",
      "Requirement already satisfied: beautifulsoup4 in c:\\users\\gemma\\anaconda3\\lib\\site-packages (from nbconvert>=6.4.4->jupyter-server~=1.16->jupyterlab) (4.11.1)\n",
      "Requirement already satisfied: bleach in c:\\users\\gemma\\anaconda3\\lib\\site-packages (from nbconvert>=6.4.4->jupyter-server~=1.16->jupyterlab) (4.1.0)\n",
      "Requirement already satisfied: testpath in c:\\users\\gemma\\anaconda3\\lib\\site-packages (from nbconvert>=6.4.4->jupyter-server~=1.16->jupyterlab) (0.6.0)\n",
      "Requirement already satisfied: defusedxml in c:\\users\\gemma\\anaconda3\\lib\\site-packages (from nbconvert>=6.4.4->jupyter-server~=1.16->jupyterlab) (0.7.1)\n",
      "Requirement already satisfied: nbclient<0.6.0,>=0.5.0 in c:\\users\\gemma\\anaconda3\\lib\\site-packages (from nbconvert>=6.4.4->jupyter-server~=1.16->jupyterlab) (0.5.13)\n",
      "Requirement already satisfied: fastjsonschema in c:\\users\\gemma\\anaconda3\\lib\\site-packages (from nbformat>=5.2.0->jupyter-server~=1.16->jupyterlab) (2.16.2)\n",
      "Requirement already satisfied: wcwidth in c:\\users\\gemma\\anaconda3\\lib\\site-packages (from prompt-toolkit!=3.0.0,!=3.0.1,<3.1.0,>=2.0.0->ipython->jupyterlab) (0.2.5)\n",
      "Requirement already satisfied: argon2-cffi-bindings in c:\\users\\gemma\\anaconda3\\lib\\site-packages (from argon2-cffi->jupyter-server~=1.16->jupyterlab) (21.2.0)\n",
      "Requirement already satisfied: pytz>=2015.7 in c:\\users\\gemma\\anaconda3\\lib\\site-packages (from babel->jupyterlab-server~=2.10->jupyterlab) (2022.1)\n",
      "Requirement already satisfied: psutil in c:\\users\\gemma\\anaconda3\\lib\\site-packages (from ipykernel->notebook<7->jupyterlab) (5.9.0)\n",
      "Requirement already satisfied: debugpy>=1.0 in c:\\users\\gemma\\anaconda3\\lib\\site-packages (from ipykernel->notebook<7->jupyterlab) (1.5.1)\n",
      "Requirement already satisfied: urllib3<1.27,>=1.21.1 in c:\\users\\gemma\\anaconda3\\lib\\site-packages (from requests->jupyterlab-server~=2.10->jupyterlab) (1.26.11)\n",
      "Requirement already satisfied: charset-normalizer<3,>=2 in c:\\users\\gemma\\anaconda3\\lib\\site-packages (from requests->jupyterlab-server~=2.10->jupyterlab) (2.0.4)\n",
      "Requirement already satisfied: certifi>=2017.4.17 in c:\\users\\gemma\\anaconda3\\lib\\site-packages (from requests->jupyterlab-server~=2.10->jupyterlab) (2022.9.14)\n",
      "Requirement already satisfied: six in c:\\users\\gemma\\anaconda3\\lib\\site-packages (from websocket-client->jupyter-server~=1.16->jupyterlab) (1.16.0)\n",
      "Requirement already satisfied: cffi>=1.0.1 in c:\\users\\gemma\\anaconda3\\lib\\site-packages (from argon2-cffi-bindings->argon2-cffi->jupyter-server~=1.16->jupyterlab) (1.15.1)\n",
      "Requirement already satisfied: soupsieve>1.2 in c:\\users\\gemma\\anaconda3\\lib\\site-packages (from beautifulsoup4->nbconvert>=6.4.4->jupyter-server~=1.16->jupyterlab) (2.3.1)\n",
      "Requirement already satisfied: webencodings in c:\\users\\gemma\\anaconda3\\lib\\site-packages (from bleach->nbconvert>=6.4.4->jupyter-server~=1.16->jupyterlab) (0.5.1)\n",
      "Requirement already satisfied: pycparser in c:\\users\\gemma\\anaconda3\\lib\\site-packages (from cffi>=1.0.1->argon2-cffi-bindings->argon2-cffi->jupyter-server~=1.16->jupyterlab) (2.21)\n"
     ]
    }
   ],
   "source": [
    "!pip install jupyterlab"
   ]
  }
 ],
 "metadata": {
  "kernelspec": {
   "display_name": "Python 3 (ipykernel)",
   "language": "python",
   "name": "python3"
  },
  "language_info": {
   "codemirror_mode": {
    "name": "ipython",
    "version": 3
   },
   "file_extension": ".py",
   "mimetype": "text/x-python",
   "name": "python",
   "nbconvert_exporter": "python",
   "pygments_lexer": "ipython3",
   "version": "3.9.13"
  }
 },
 "nbformat": 4,
 "nbformat_minor": 5
}
