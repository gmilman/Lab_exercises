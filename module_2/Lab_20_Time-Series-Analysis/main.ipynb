{
  "cells": [
    {
      "cell_type": "markdown",
      "metadata": {
        "id": "F9o3Ygk-OcmZ"
      },
      "source": [
        "# Before your start:\n",
        "- Read the README.md file\n",
        "- Comment as much as you can and use the resources (README.md file)\n",
        "- Happy learning!"
      ]
    },
    {
      "cell_type": "code",
      "execution_count": null,
      "metadata": {
        "id": "DTjctqYAOcmc",
        "colab": {
          "base_uri": "https://localhost:8080/"
        },
        "outputId": "09a3a21e-31b9-4c13-fe3f-0618d89b3904"
      },
      "outputs": [
        {
          "output_type": "stream",
          "name": "stderr",
          "text": [
            "/usr/local/lib/python3.7/dist-packages/statsmodels/tools/_testing.py:19: FutureWarning: pandas.util.testing is deprecated. Use the functions in the public API at pandas.testing instead.\n",
            "  import pandas.util.testing as tm\n"
          ]
        }
      ],
      "source": [
        "# Libraries\n",
        "import pandas as pd\n",
        "import matplotlib.pyplot as plt\n",
        "import statsmodels.api as sm\n",
        "from pandas.plotting import lag_plot\n",
        "from statsmodels.tsa.stattools import adfuller\n",
        "import warnings\n",
        "\n",
        "# Setup\n",
        "warnings.filterwarnings(\"ignore\")"
      ]
    },
    {
      "cell_type": "markdown",
      "metadata": {
        "id": "IhBS6XSFOcmd"
      },
      "source": [
        "# Challenge 1 - Loading and Evaluating The Data\n",
        "\n",
        "In this lab, we will look at a dataset of sensor data from a cellular phone. The phone was carried in the subject's pocket for a few minutes while they walked around.\n",
        "\n",
        "To load the data, run the code below."
      ]
    },
    {
      "cell_type": "code",
      "execution_count": null,
      "metadata": {
        "id": "-hvvxCnlOcme"
      },
      "outputs": [],
      "source": [
        "# Read data\n"
      ]
    },
    {
      "cell_type": "markdown",
      "metadata": {
        "id": "MoDk2PnzOcme"
      },
      "source": [
        "Examine the data using the `head` function."
      ]
    },
    {
      "cell_type": "code",
      "execution_count": null,
      "metadata": {
        "id": "DxGQg1QxOcme"
      },
      "outputs": [],
      "source": [
        ""
      ]
    },
    {
      "cell_type": "markdown",
      "metadata": {
        "id": "9x5jqnS7Ocmf"
      },
      "source": [
        "Check whether there is any missing data. If there is any missing data, remove the rows containing missing data."
      ]
    },
    {
      "cell_type": "code",
      "execution_count": null,
      "metadata": {
        "id": "ynrxJktDOcmg"
      },
      "outputs": [],
      "source": [
        ""
      ]
    },
    {
      "cell_type": "markdown",
      "metadata": {
        "id": "Hcw1CmEPOcmg"
      },
      "source": [
        "How many rows and columns are in our data?"
      ]
    },
    {
      "cell_type": "code",
      "execution_count": null,
      "metadata": {
        "id": "Guv1zpaqOcmh",
        "outputId": "45613050-226f-4afa-bacc-398e1c01631f",
        "colab": {
          "base_uri": "https://localhost:8080/",
          "height": 165
        }
      },
      "outputs": [
        {
          "output_type": "error",
          "ename": "NameError",
          "evalue": "ignored",
          "traceback": [
            "\u001b[0;31m---------------------------------------------------------------------------\u001b[0m",
            "\u001b[0;31mNameError\u001b[0m                                 Traceback (most recent call last)",
            "\u001b[0;32m<ipython-input-3-5da00d331d24>\u001b[0m in \u001b[0;36m<module>\u001b[0;34m()\u001b[0m\n\u001b[0;32m----> 1\u001b[0;31m \u001b[0;34mf\"There are {sensor.shape[0]} rows and {sensor.shape[1]} columns\"\u001b[0m\u001b[0;34m\u001b[0m\u001b[0;34m\u001b[0m\u001b[0m\n\u001b[0m",
            "\u001b[0;31mNameError\u001b[0m: name 'sensor' is not defined"
          ]
        }
      ],
      "source": [
        ""
      ]
    },
    {
      "cell_type": "markdown",
      "metadata": {
        "id": "bdhV4iWIOcmh"
      },
      "source": [
        "To perform time series analysis on the data, we must change the index from a range index to a time series index. In the cell below, create a time series index using the `pd.date_range` function. Create a time series index starting at 1/1/2018 00:00:00 and ending at 1/1/2018 00:29:10. The number of periods is equal to the number of rows in `sensor`. The frequency should be set to `infer`."
      ]
    },
    {
      "cell_type": "code",
      "execution_count": null,
      "metadata": {
        "id": "uoPnJG0POcmi"
      },
      "outputs": [],
      "source": [
        ""
      ]
    },
    {
      "cell_type": "markdown",
      "metadata": {
        "id": "7bYdwaxLOcmi"
      },
      "source": [
        "Assign the time series index to the dataframe's index."
      ]
    },
    {
      "cell_type": "code",
      "execution_count": null,
      "metadata": {
        "id": "qv0IlJdiOcmi"
      },
      "outputs": [],
      "source": [
        ""
      ]
    },
    {
      "cell_type": "markdown",
      "metadata": {
        "id": "aJHrVycrOcmj"
      },
      "source": [
        "Our next step is to decompose the time series and evaluate the patterns in the data. Load the `statsmodels.api` submodule and plot the decomposed plot of `userAcceleration.x`. Set `freq=60` in the `seasonal_decompose` function. Your graph should look like the one below.\n",
        "\n",
        "![time series decomposition](./images/tsa_decompose.png)"
      ]
    },
    {
      "cell_type": "code",
      "execution_count": null,
      "metadata": {
        "id": "itcD746pOcmj"
      },
      "outputs": [],
      "source": [
        ""
      ]
    },
    {
      "cell_type": "markdown",
      "metadata": {
        "id": "A7GmDbLUOcmj"
      },
      "source": [
        "Plot the decomposed time series of `rotationRate.x` also with a frequency of 60."
      ]
    },
    {
      "cell_type": "code",
      "execution_count": null,
      "metadata": {
        "id": "y7w0oDCnOcmk"
      },
      "outputs": [],
      "source": [
        ""
      ]
    },
    {
      "cell_type": "markdown",
      "metadata": {
        "id": "4kMg8s3qOcmk"
      },
      "source": [
        "# Challenge 2 - Modelling the Data\n",
        "\n",
        "To model our data, we should look at a few assumptions. First, let's plot the `lag_plot` to detect any autocorrelation. Do this for `userAcceleration.x`."
      ]
    },
    {
      "cell_type": "code",
      "execution_count": null,
      "metadata": {
        "id": "jfFL6ZTiOcmk"
      },
      "outputs": [],
      "source": [
        ""
      ]
    },
    {
      "cell_type": "markdown",
      "metadata": {
        "id": "9rF6c8UaOcmk"
      },
      "source": [
        "Create a lag plot for `rotationRate.x`"
      ]
    },
    {
      "cell_type": "code",
      "execution_count": null,
      "metadata": {
        "id": "dNJU7RfjOcml"
      },
      "outputs": [],
      "source": [
        ""
      ]
    },
    {
      "cell_type": "markdown",
      "metadata": {
        "id": "jDbRLtIOOcml"
      },
      "source": [
        "What are your conclusions from both visualizations?"
      ]
    },
    {
      "cell_type": "markdown",
      "metadata": {
        "id": "IUVsgisaOcml"
      },
      "source": [
        "```Comments:``` Autocorrelation in time series means that the series is linearly related to a lagged version of itself. For features 'rotationRate.x' and 'userAcceleration.x', the observations at time *t* have a positive linear correlation with the observations at time *t+1*. One of the assumptions of regression analysis is that the data has no autocorrelation. If we try to do a regression analysis on data with autocorrelation, then our analysis will be misleading."
      ]
    },
    {
      "cell_type": "markdown",
      "metadata": {
        "id": "QcEtPMA0Ocml"
      },
      "source": [
        "The next step will be to test both variables for stationarity. Perform the Augmented Dickey Fuller test on both variables below."
      ]
    },
    {
      "cell_type": "code",
      "execution_count": null,
      "metadata": {
        "id": "xjsp1HNnOcmm"
      },
      "outputs": [],
      "source": [
        "# Ho: userAcceleration.x is not stationary\n",
        "# Ha: userAcceleration.x is stationary\n"
      ]
    },
    {
      "cell_type": "code",
      "execution_count": null,
      "metadata": {
        "id": "aKEI0a3tOcmm"
      },
      "outputs": [],
      "source": [
        ""
      ]
    },
    {
      "cell_type": "markdown",
      "metadata": {
        "id": "yJFmitaVOcmm"
      },
      "source": [
        "What are your conclusions from this test?"
      ]
    },
    {
      "cell_type": "markdown",
      "metadata": {
        "id": "IlTfUsKiOcmm"
      },
      "source": [
        "```Comments:``` ARMA models work on the assumption that the time series is stationary. Stationarity means that the statistical properties of a process generating a time series do not change over time. It does not mean that the series does not change over time, just that the way it changes does not itself change over time. In both cases, we can reject the null hypothesis that the time series is not stationary, so we can create an ARMA model."
      ]
    },
    {
      "cell_type": "markdown",
      "metadata": {
        "id": "XlsZGS2yOcmm"
      },
      "source": [
        "Finally, we'll create an ARMA model for `userAcceleration.x`. Load the `ARMA` function from `statsmodels`. The order of the model is (2, 1). Split the data to train and test. Use the last 10 observations as the test set and all other observations as the training set. "
      ]
    },
    {
      "cell_type": "code",
      "execution_count": null,
      "metadata": {
        "id": "oYktvxd8Ocmn"
      },
      "outputs": [],
      "source": [
        "from statsmodels.tsa.arima_model import ARMA\n",
        "# ARMA of order (p,q)\n",
        "# p: order of the autoregressive model (AR).\n",
        "# q: order of the moving average model (MA)."
      ]
    },
    {
      "cell_type": "code",
      "execution_count": null,
      "metadata": {
        "id": "FlLykZiqOcmn"
      },
      "outputs": [],
      "source": [
        ""
      ]
    },
    {
      "cell_type": "code",
      "execution_count": null,
      "metadata": {
        "id": "Vnclx8ZGOcmn"
      },
      "outputs": [],
      "source": [
        ""
      ]
    },
    {
      "cell_type": "markdown",
      "metadata": {
        "id": "MWLUSyoHOcmn"
      },
      "source": [
        "To compare our predictions with the observed data, we can compute the RMSE (Root Mean Squared Error) from the submodule `statsmodels.tools.eval_measures`. You can read more about this function [here](https://www.statsmodels.org/dev/generated/statsmodels.tools.eval_measures.rmse.html). Compute the RMSE for the last 10 rows of the data by comparing the observed and predicted data for the `userAcceleration.x` column."
      ]
    },
    {
      "cell_type": "code",
      "execution_count": null,
      "metadata": {
        "id": "APrGjB8qOcmo"
      },
      "outputs": [],
      "source": [
        "from statsmodels.tools.eval_measures import rmse"
      ]
    },
    {
      "cell_type": "code",
      "execution_count": null,
      "metadata": {
        "id": "ju7jLa_9Ocmo"
      },
      "outputs": [],
      "source": [
        ""
      ]
    },
    {
      "cell_type": "markdown",
      "metadata": {
        "id": "8KN_nE7eOcmo"
      },
      "source": [
        "```Comments:``` \n",
        "The RMSE is the square root of the variance of the residuals. It indicates the absolute fit of the model to the data, so how close the observed data points are to the model’s predicted values. Whereas R-squared is a relative measure of fit, RMSE is an absolute measure of fit. As the square root of a variance, RMSE can be interpreted as the standard deviation of the unexplained variance, and has the useful property of being in the same units as the response variable. Lower values of RMSE indicate better fit. RMSE is a good measure of how accurately the model predicts the response, and it is the most important criterion for fit if the main purpose of the model is prediction. We can say that the deviation from the true prediction is +/- 0.22."
      ]
    }
  ],
  "metadata": {
    "kernelspec": {
      "display_name": "ironhack-3.7",
      "language": "python",
      "name": "ironhack-3.7"
    },
    "language_info": {
      "codemirror_mode": {
        "name": "ipython",
        "version": 3
      },
      "file_extension": ".py",
      "mimetype": "text/x-python",
      "name": "python",
      "nbconvert_exporter": "python",
      "pygments_lexer": "ipython3",
      "version": "3.7.3"
    },
    "colab": {
      "name": "main.ipynb",
      "provenance": []
    }
  },
  "nbformat": 4,
  "nbformat_minor": 0
}