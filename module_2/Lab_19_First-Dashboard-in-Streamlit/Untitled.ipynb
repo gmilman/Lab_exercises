{
 "cells": [
  {
   "cell_type": "code",
   "execution_count": 12,
   "id": "578d91b8",
   "metadata": {},
   "outputs": [],
   "source": [
    "import streamlit as st\n",
    "import pandas as pd\n",
    "from sklearn import datasets"
   ]
  },
  {
   "cell_type": "code",
   "execution_count": 13,
   "id": "32fadcb9",
   "metadata": {},
   "outputs": [],
   "source": [
    "breast_cancer = datasets.load_breast_cancer(as_frame=True)\n",
    "\n",
    "breast_cancer_df = pd.concat((breast_cancer[\"data\"], breast_cancer[\"target\"]), axis=1)\n",
    "\n",
    "breast_cancer_df[\"target\"] = [breast_cancer.target_names[val] for val in breast_cancer_df[\"target\"]]"
   ]
  },
  {
   "cell_type": "code",
   "execution_count": 14,
   "id": "33aef1a4",
   "metadata": {},
   "outputs": [
    {
     "name": "stderr",
     "output_type": "stream",
     "text": [
      "2023-02-19 11:30:20.697 \n",
      "  \u001b[33m\u001b[1mWarning:\u001b[0m to view this Streamlit app on a browser, run it with the following\n",
      "  command:\n",
      "\n",
      "    streamlit run C:\\Users\\gemma\\anaconda3\\lib\\site-packages\\ipykernel_launcher.py [ARGUMENTS]\n"
     ]
    },
    {
     "data": {
      "text/plain": [
       "DeltaGenerator(_root_container=0, _provided_cursor=None, _parent=None, _block_type=None, _form_data=None)"
      ]
     },
     "execution_count": 14,
     "metadata": {},
     "output_type": "execute_result"
    }
   ],
   "source": [
    "st.set_page_config(page_title='Breast Cancer Stats', layout='wide')\n",
    "st.markdown(body = 'Breast cancer stats')"
   ]
  }
 ],
 "metadata": {
  "kernelspec": {
   "display_name": "Python 3 (ipykernel)",
   "language": "python",
   "name": "python3"
  },
  "language_info": {
   "codemirror_mode": {
    "name": "ipython",
    "version": 3
   },
   "file_extension": ".py",
   "mimetype": "text/x-python",
   "name": "python",
   "nbconvert_exporter": "python",
   "pygments_lexer": "ipython3",
   "version": "3.9.13"
  }
 },
 "nbformat": 4,
 "nbformat_minor": 5
}
