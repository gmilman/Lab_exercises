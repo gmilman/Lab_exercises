{
 "cells": [
  {
   "cell_type": "code",
   "execution_count": 12,
   "id": "2c263223",
   "metadata": {},
   "outputs": [],
   "source": [
    "import streamlit as st\n",
    "import pandas as pd\n",
    "from sklearn import datasets"
   ]
  },
  {
   "cell_type": "code",
   "execution_count": 13,
   "id": "b1fb6587",
   "metadata": {},
   "outputs": [],
   "source": [
    "breast_cancer = datasets.load_breast_cancer(as_frame=True)\n",
    "\n",
    "breast_cancer_df = pd.concat((breast_cancer[\"data\"], breast_cancer[\"target\"]), axis=1)\n",
    "\n",
    "breast_cancer_df[\"target\"] = [breast_cancer.target_names[val] for val in breast_cancer_df[\"target\"]]"
   ]
  },
  {
   "cell_type": "code",
   "execution_count": null,
   "id": "ca1cb6b6",
   "metadata": {},
   "outputs": [],
   "source": []
  }
 ],
 "metadata": {
  "kernelspec": {
   "display_name": "Python 3 (ipykernel)",
   "language": "python",
   "name": "python3"
  },
  "language_info": {
   "codemirror_mode": {
    "name": "ipython",
    "version": 3
   },
   "file_extension": ".py",
   "mimetype": "text/x-python",
   "name": "python",
   "nbconvert_exporter": "python",
   "pygments_lexer": "ipython3",
   "version": "3.9.13"
  }
 },
 "nbformat": 4,
 "nbformat_minor": 5
}
