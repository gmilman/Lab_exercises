{
 "cells": [
  {
   "cell_type": "markdown",
   "metadata": {},
   "source": [
    "# Before your start:\n",
    "- Read the README.md file\n",
    "- Comment as much as you can and use the resources in the README.md file\n",
    "- Happy learning!"
   ]
  },
  {
   "cell_type": "markdown",
   "metadata": {},
   "source": [
    "# Challenge 1 - Combining Strings\n",
    "\n",
    "Combining strings is an important skill to acquire. There are multiple ways of combining strings in Python, as well as combining strings with variables. We will explore this in the first challenge. In the cell below, combine the strings in the list and add spaces between the strings (do not add a space after the last string). Insert a period after the last string."
   ]
  },
  {
   "cell_type": "code",
   "execution_count": 12,
   "metadata": {},
   "outputs": [
    {
     "data": {
      "text/plain": [
       "'Durante un tiempo no estuvo segura de si su marido era su marido.'"
      ]
     },
     "execution_count": 12,
     "metadata": {},
     "output_type": "execute_result"
    }
   ],
   "source": [
    "str_list = ['Durante', 'un', 'tiempo', 'no', 'estuvo', 'segura', 'de', 'si', 'su', 'marido', 'era', 'su', 'marido']\n",
    "# Your code here:\n",
    "list_len= len(str_list)\n",
    "sentence=\"\"\n",
    "for word in range(len(str_list)-1):\n",
    "    sentence = sentence + str_list[word] + \" \"\n",
    "\n",
    "sentence = sentence + str_list[len(str_list)-1] + \".\"\n",
    "sentence\n",
    "    # use join function and concatenat with . \n",
    "\n"
   ]
  },
  {
   "cell_type": "markdown",
   "metadata": {},
   "source": [
    "In the cell below, use the list of strings to create a grocery list. Start the list with the string `Grocery list: ` and include a comma and a space between each item except for the last one. Include a period at the end. Only include foods in the list that start with the letter 'b' and ensure all foods are lower case."
   ]
  },
  {
   "cell_type": "code",
   "execution_count": 87,
   "metadata": {},
   "outputs": [
    {
     "data": {
      "text/plain": [
       "'Grocery list:, bananas, bread, brownie mix, broccoli.'"
      ]
     },
     "execution_count": 87,
     "metadata": {},
     "output_type": "execute_result"
    }
   ],
   "source": [
    "# Use startwith function \n",
    "food_list = ['Bananas', 'Chocolate', 'bread', 'diapers', 'Ice Cream', 'Brownie Mix', 'broccoli']\n",
    "# Your code here:\n",
    "Grocery=\"Grocery list:\"\n",
    "for food in food_list:\n",
    "    if food.lower().startswith('b'):\n",
    "        Grocery = Grocery + \", \" + food.lower()\n",
    "Grocery= Grocery + '.'\n",
    "Grocery\n",
    "#Grocery =(', '.join(food_list)).lower()\n",
    "\n",
    "#Grocery= Grocery.startswith('b')\n",
    "#Grocery"
   ]
  },
  {
   "cell_type": "code",
   "execution_count": 78,
   "metadata": {},
   "outputs": [
    {
     "data": {
      "text/plain": [
       "'bananas, bread, brownie, broccoli'"
      ]
     },
     "execution_count": 78,
     "metadata": {},
     "output_type": "execute_result"
    }
   ],
   "source": [
    "food_list = ['Bananas', 'Chocolate', 'bread', 'diapers', 'Ice Cream', 'Brownie Mix', 'broccoli']\n",
    "# Your code here: # Althernative from Thao\n",
    "import re \n",
    "\n",
    "Grocery_list= \", \".join(food_list)\n",
    "Grocery_list= Grocery_list.lower()\n",
    "#\n",
    "Grocery_list= re.findall('[b]+\\w+|[B]+\\w+',Grocery_list)\n",
    "Grocery_list=', '.join(Grocery_list)\n",
    "\n",
    "Grocery_list\n",
    "\n"
   ]
  },
  {
   "cell_type": "markdown",
   "metadata": {},
   "source": [
    "In the cell below, write a function that computes the area of a circle using its radius. Compute the area of the circle and insert the radius and the area between the two strings. Make sure to include spaces between the variable and the strings. \n",
    "\n",
    "Note: You can use the techniques we have learned so far or use f-strings. F-strings allow us to embed code inside strings. You can read more about f-strings [here](https://www.python.org/dev/peps/pep-0498/)."
   ]
  },
  {
   "cell_type": "code",
   "execution_count": 98,
   "metadata": {},
   "outputs": [
    {
     "name": "stdout",
     "output_type": "stream",
     "text": [
      "The area of the circle with radius: 4.5 is: 63.62\n"
     ]
    }
   ],
   "source": [
    "import math\n",
    "\n",
    "string1 = \"The area of the circle with radius:\"\n",
    "string2  = \"is:\"\n",
    "radius = 4.5\n",
    "\n",
    "def area(x, pi = math.pi):\n",
    "    \"\"\"\n",
    "    This function takes a radius and returns the area of a circle. \n",
    "    We also pass a default value for pi.\n",
    "    \n",
    "    Input: Float (and default value for pi)\n",
    "    Output: Float\n",
    "    \n",
    "    Sample input: 5.0\n",
    "    Sample Output: 78.53981633\n",
    "    \"\"\"\n",
    "    \n",
    "    # Your code here:\n",
    "    return(round(math.pi*(x**2),2))\n",
    "    \n",
    "# Your output string here: (two options)\n",
    "print(f\"{string1} {radius} {string2} {area(radius)}\")"
   ]
  },
  {
   "cell_type": "markdown",
   "metadata": {},
   "source": [
    "# Challenge 2 - Splitting Strings\n",
    "\n",
    "We have first looked at combining strings into one long string. There are times where we need to do the opposite and split the string into smaller components for further analysis. \n",
    "\n",
    "In the cell below, split the string into a list of strings using the space delimiter. Count the frequency of each word in the string in a dictionary. Strip the periods, line breaks and commas from the text. Make sure to remove empty strings from your dictionary."
   ]
  },
  {
   "cell_type": "code",
   "execution_count": 105,
   "metadata": {},
   "outputs": [
    {
     "name": "stdout",
     "output_type": "stream",
     "text": [
      "Counter({'say': 3, 'I': 3, 'Some': 2, 'in': 2, 'fire': 2, 'ice': 2, 'of': 2, 'the': 1, 'world': 1, 'will': 1, 'end': 1, 'From': 1, 'what': 1, 'I’ve': 1, 'tasted': 1, 'desire': 1, 'hold': 1, 'with': 1, 'those': 1, 'who': 1, 'favor': 1, 'But': 1, 'if': 1, 'it': 1, 'had': 1, 'to': 1, 'perish': 1, 'twice': 1, 'think': 1, 'know': 1, 'enough': 1, 'hate': 1, 'To': 1, 'that': 1, 'for': 1, 'destruction': 1, 'Is': 1, 'also': 1, 'great': 1, 'And': 1, 'would': 1, 'suffice': 1})\n"
     ]
    }
   ],
   "source": [
    "poem = \"\"\"Some say the world will end in fire,\n",
    "Some say in ice.\n",
    "From what I’ve tasted of desire\n",
    "I hold with those who favor fire.\n",
    "But if it had to perish twice,\n",
    "I think I know enough of hate\n",
    "To say that for destruction ice\n",
    "Is also great\n",
    "And would suffice.\"\"\"\n",
    "\n",
    "# Your code here: use replace, then split and dictionary (to give word as key and count as value)\n",
    "#replace all delimiters with space\n",
    "#creat list of words using split function\n",
    "# count the frequency of each word in poem and list in dictionary\n",
    "\n",
    "poem=poem.replace('.','')\n",
    "\n",
    "poem=poem.replace(',','')\n",
    "\n",
    "poem=poem.replace('\\n',' ')\n",
    "word_list= poem.split(sep = \" \")\n",
    "\n",
    "from collections import Counter\n",
    "\n",
    "print(Counter(word_list))\n",
    "    "
   ]
  },
  {
   "cell_type": "markdown",
   "metadata": {},
   "source": [
    "In the cell below, find all the words that appear in the text and do not appear in the blacklist. You must parse the string but can choose any data structure you wish for the words that do not appear in the blacklist. Remove all non letter characters and convert all words to lower case."
   ]
  },
  {
   "cell_type": "code",
   "execution_count": 137,
   "metadata": {},
   "outputs": [
    {
     "name": "stdout",
     "output_type": "stream",
     "text": [
      "{'both', 'knew', 'when', 'soft', 'an', 'garden', 'not', 'sunned', 'beheld', 'till', 'my', 'bore', 'end', 'tears', 'bright', 'the', 'and', 'glad', 'told', 'he', 'grow', 'with', 'fears', 'did', 'apple', 'wrath', 'i', 'veild', 'grew', 'foe', 'had', 'angry', 'tree', 'stole', 'friend', 'into', 'mine', 'outstretched', 'was', 'in', 'night', 'it', 'shine', 'see', 'that', 'morning', 'beneath', 'smiles', 'wiles', 'waterd', 'day', 'deceitful', 'pole'}\n"
     ]
    }
   ],
   "source": [
    "blacklist = ['and', 'as', 'an', 'a', 'the', 'in', 'it']\n",
    "\n",
    "poem = \"\"\"I was angry with my friend; \n",
    "I told my wrath, my wrath did end.\n",
    "I was angry with my foe: \n",
    "I told it not, my wrath did grow. \n",
    "\n",
    "And I waterd it in fears,\n",
    "Night & morning with my tears: \n",
    "And I sunned it with smiles,\n",
    "And with soft deceitful wiles. \n",
    "\n",
    "And it grew both day and night. \n",
    "Till it bore an apple bright. \n",
    "And my foe beheld it shine,\n",
    "And he knew that it was mine. \n",
    "\n",
    "And into my garden stole, \n",
    "When the night had veild the pole; \n",
    "In the morning glad I see; \n",
    "My foe outstretched beneath the tree.\"\"\"\n",
    "\n",
    "# Your code here:\n",
    "    # convert all to lower\n",
    "poem=poem.lower()\n",
    "    # for \n",
    "poem=poem.replace('.','')\n",
    "\n",
    "poem=poem.replace(',','')\n",
    "\n",
    "poem=poem.replace('\\n',' ')\n",
    "poem=poem.replace(';','')\n",
    "poem=poem.replace(':','')\n",
    "poem=poem.replace('&','')\n",
    "poem=poem.replace('  ',' ')\n",
    "word_list= poem.split(sep = \" \")\n",
    "\n",
    "final_list=[]\n",
    "for black in blacklist:\n",
    "    for word in word_list:\n",
    "    \n",
    "        if word !=black:\n",
    "            final_list.append(word)\n",
    "            \n",
    "final_list = list(filter(None,final_list))\n",
    "#print(final_list)\n",
    "word_set=set(final_list)\n",
    "print(word_set)\n"
   ]
  }
 ],
 "metadata": {
  "kernelspec": {
   "display_name": "Python 3 (ipykernel)",
   "language": "python",
   "name": "python3"
  },
  "language_info": {
   "codemirror_mode": {
    "name": "ipython",
    "version": 3
   },
   "file_extension": ".py",
   "mimetype": "text/x-python",
   "name": "python",
   "nbconvert_exporter": "python",
   "pygments_lexer": "ipython3",
   "version": "3.9.13"
  },
  "varInspector": {
   "cols": {
    "lenName": 16,
    "lenType": 16,
    "lenVar": 40
   },
   "kernels_config": {
    "python": {
     "delete_cmd_postfix": "",
     "delete_cmd_prefix": "del ",
     "library": "var_list.py",
     "varRefreshCmd": "print(var_dic_list())"
    },
    "r": {
     "delete_cmd_postfix": ") ",
     "delete_cmd_prefix": "rm(",
     "library": "var_list.r",
     "varRefreshCmd": "cat(var_dic_list()) "
    }
   },
   "types_to_exclude": [
    "module",
    "function",
    "builtin_function_or_method",
    "instance",
    "_Feature"
   ],
   "window_display": false
  }
 },
 "nbformat": 4,
 "nbformat_minor": 2
}
